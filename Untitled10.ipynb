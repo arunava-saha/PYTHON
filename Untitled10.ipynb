{
  "nbformat": 4,
  "nbformat_minor": 0,
  "metadata": {
    "colab": {
      "name": "Untitled10.ipynb",
      "provenance": []
    },
    "kernelspec": {
      "name": "python3",
      "display_name": "Python 3"
    }
  },
  "cells": [
    {
      "cell_type": "code",
      "metadata": {
        "id": "UDi6vdDlGlAK",
        "colab_type": "code",
        "colab": {
          "base_uri": "https://localhost:8080/",
          "height": 50
        },
        "outputId": "9119adb5-2f51-4208-ce6b-8d3f4bab9c79"
      },
      "source": [
        "#Assignment 1\n",
        "num = input(\"Enter the current altitude - \")\n",
        "\n",
        "Alt = int(num)\n",
        "\n",
        "if Alt ==1000:\n",
        "    print(\"Safe to land \")\n",
        "elif Alt <= 5000:\n",
        "    print(\"Bring down to 1000\")\n",
        "else:\n",
        "    print(\"Turn around\")"
      ],
      "execution_count": 5,
      "outputs": [
        {
          "output_type": "stream",
          "text": [
            "Enter the current altitude - 1000\n",
            "Safe to land \n"
          ],
          "name": "stdout"
        }
      ]
    },
    {
      "cell_type": "code",
      "metadata": {
        "id": "WpSYQ7aVGpbQ",
        "colab_type": "code",
        "colab": {
          "base_uri": "https://localhost:8080/",
          "height": 50
        },
        "outputId": "ddd61b1a-10a3-4372-8772-87d32377266a"
      },
      "source": [
        "#Assignment 2\n",
        "num = input(\"Enter the number - \")\n",
        "\n",
        "j = int(num)\n",
        "for i in range(2,j):\n",
        "        \n",
        "    if (j%i==0):\n",
        "        print(\"not prime\")\n",
        "        break\n",
        "    else:\n",
        "        print(\"prime\")\n",
        "        break"
      ],
      "execution_count": 12,
      "outputs": [
        {
          "output_type": "stream",
          "text": [
            "Enter the number - 101\n",
            "prime\n"
          ],
          "name": "stdout"
        }
      ]
    },
    {
      "cell_type": "code",
      "metadata": {
        "id": "dk5dBlOWHImU",
        "colab_type": "code",
        "colab": {
          "base_uri": "https://localhost:8080/",
          "height": 823
        },
        "outputId": "383cb034-ab10-4bd8-abbc-bb1a6751ec30"
      },
      "source": [
        "lower = input(\"Enter the lower number - \")\n",
        "upper = input(\"Enter the upper number - \")\n",
        "lower=int(lower)\n",
        "upper=int(upper)\n",
        "for i in range(lower,upper+1):\n",
        "    if i>1:\n",
        "        for j in range(2,i):\n",
        "            if (i%j == 0):\n",
        "                break\n",
        "        else:\n",
        "            print(i)"
      ],
      "execution_count": 16,
      "outputs": [
        {
          "output_type": "stream",
          "text": [
            "Enter the lower number - 1\n",
            "Enter the upper number - 200\n",
            "2\n",
            "3\n",
            "5\n",
            "7\n",
            "11\n",
            "13\n",
            "17\n",
            "19\n",
            "23\n",
            "29\n",
            "31\n",
            "37\n",
            "41\n",
            "43\n",
            "47\n",
            "53\n",
            "59\n",
            "61\n",
            "67\n",
            "71\n",
            "73\n",
            "79\n",
            "83\n",
            "89\n",
            "97\n",
            "101\n",
            "103\n",
            "107\n",
            "109\n",
            "113\n",
            "127\n",
            "131\n",
            "137\n",
            "139\n",
            "149\n",
            "151\n",
            "157\n",
            "163\n",
            "167\n",
            "173\n",
            "179\n",
            "181\n",
            "191\n",
            "193\n",
            "197\n",
            "199\n"
          ],
          "name": "stdout"
        }
      ]
    },
    {
      "cell_type": "code",
      "metadata": {
        "id": "WpwMSNUOHh8u",
        "colab_type": "code",
        "colab": {}
      },
      "source": [
        ""
      ],
      "execution_count": null,
      "outputs": []
    }
  ]
}