{
  "nbformat": 4,
  "nbformat_minor": 0,
  "metadata": {
    "colab": {
      "name": "day 9 assignment",
      "provenance": [],
      "authorship_tag": "ABX9TyNrmq1NyapBPG5xiOTixoPW",
      "include_colab_link": true
    },
    "kernelspec": {
      "name": "python3",
      "display_name": "Python 3"
    }
  },
  "cells": [
    {
      "cell_type": "markdown",
      "metadata": {
        "id": "view-in-github",
        "colab_type": "text"
      },
      "source": [
        "<a href=\"https://colab.research.google.com/github/arunava-saha/PYTHON/blob/master/day_9_assignment.ipynb\" target=\"_parent\"><img src=\"https://colab.research.google.com/assets/colab-badge.svg\" alt=\"Open In Colab\"/></a>"
      ]
    },
    {
      "cell_type": "code",
      "metadata": {
        "id": "Y4w8NKZLLmjW",
        "colab_type": "code",
        "colab": {
          "base_uri": "https://localhost:8080/",
          "height": 34
        },
        "outputId": "36ed2c81-3e80-4e7d-b196-7daed12a439d"
      },
      "source": [
        "%%writefile primenumber_code.py\n",
        "'''\n",
        "It is a prime no example code\n",
        "'''\n",
        "def prime(num):\n",
        "    '''\n",
        "    It is a prime no example code\n",
        "    '''\n",
        "    if num > 1:\n",
        "        for i in range(2,num):\n",
        "            if num % i == 0:\n",
        "                break\n",
        "        else:\n",
        "            print(num)\n",
        "    return prime\n",
        "    "
      ],
      "execution_count": 34,
      "outputs": [
        {
          "output_type": "stream",
          "text": [
            "Overwriting primenumber_code.py\n"
          ],
          "name": "stdout"
        }
      ]
    },
    {
      "cell_type": "code",
      "metadata": {
        "id": "VD-9VL8zLy0e",
        "colab_type": "code",
        "colab": {
          "base_uri": "https://localhost:8080/",
          "height": 34
        },
        "outputId": "7992dcc6-05e4-4c3d-d217-5e6f035dc5a6"
      },
      "source": [
        "import primenumber_code\n",
        "primenumber_code.prime(5)"
      ],
      "execution_count": 32,
      "outputs": [
        {
          "output_type": "stream",
          "text": [
            "5\n"
          ],
          "name": "stdout"
        }
      ]
    },
    {
      "cell_type": "code",
      "metadata": {
        "id": "AXHHsjOAL1-e",
        "colab_type": "code",
        "colab": {
          "base_uri": "https://localhost:8080/",
          "height": 424
        },
        "outputId": "29812763-da85-4132-bd19-e9e66b009e18"
      },
      "source": [
        "! pip install pylint"
      ],
      "execution_count": 9,
      "outputs": [
        {
          "output_type": "stream",
          "text": [
            "Collecting pylint\n",
            "\u001b[?25l  Downloading https://files.pythonhosted.org/packages/fb/13/519c1264a134beab2be4bac8dd3e64948980a5ca7833b31cf0255b21f20a/pylint-2.6.0-py3-none-any.whl (325kB)\n",
            "\r\u001b[K     |█                               | 10kB 18.3MB/s eta 0:00:01\r\u001b[K     |██                              | 20kB 1.8MB/s eta 0:00:01\r\u001b[K     |███                             | 30kB 2.3MB/s eta 0:00:01\r\u001b[K     |████                            | 40kB 2.6MB/s eta 0:00:01\r\u001b[K     |█████                           | 51kB 2.1MB/s eta 0:00:01\r\u001b[K     |██████                          | 61kB 2.4MB/s eta 0:00:01\r\u001b[K     |███████                         | 71kB 2.6MB/s eta 0:00:01\r\u001b[K     |████████                        | 81kB 2.8MB/s eta 0:00:01\r\u001b[K     |█████████                       | 92kB 3.1MB/s eta 0:00:01\r\u001b[K     |██████████                      | 102kB 3.0MB/s eta 0:00:01\r\u001b[K     |███████████                     | 112kB 3.0MB/s eta 0:00:01\r\u001b[K     |████████████                    | 122kB 3.0MB/s eta 0:00:01\r\u001b[K     |█████████████                   | 133kB 3.0MB/s eta 0:00:01\r\u001b[K     |██████████████                  | 143kB 3.0MB/s eta 0:00:01\r\u001b[K     |███████████████                 | 153kB 3.0MB/s eta 0:00:01\r\u001b[K     |████████████████                | 163kB 3.0MB/s eta 0:00:01\r\u001b[K     |█████████████████               | 174kB 3.0MB/s eta 0:00:01\r\u001b[K     |██████████████████              | 184kB 3.0MB/s eta 0:00:01\r\u001b[K     |███████████████████▏            | 194kB 3.0MB/s eta 0:00:01\r\u001b[K     |████████████████████▏           | 204kB 3.0MB/s eta 0:00:01\r\u001b[K     |█████████████████████▏          | 215kB 3.0MB/s eta 0:00:01\r\u001b[K     |██████████████████████▏         | 225kB 3.0MB/s eta 0:00:01\r\u001b[K     |███████████████████████▏        | 235kB 3.0MB/s eta 0:00:01\r\u001b[K     |████████████████████████▏       | 245kB 3.0MB/s eta 0:00:01\r\u001b[K     |█████████████████████████▏      | 256kB 3.0MB/s eta 0:00:01\r\u001b[K     |██████████████████████████▏     | 266kB 3.0MB/s eta 0:00:01\r\u001b[K     |███████████████████████████▏    | 276kB 3.0MB/s eta 0:00:01\r\u001b[K     |████████████████████████████▏   | 286kB 3.0MB/s eta 0:00:01\r\u001b[K     |█████████████████████████████▏  | 296kB 3.0MB/s eta 0:00:01\r\u001b[K     |██████████████████████████████▏ | 307kB 3.0MB/s eta 0:00:01\r\u001b[K     |███████████████████████████████▏| 317kB 3.0MB/s eta 0:00:01\r\u001b[K     |████████████████████████████████| 327kB 3.0MB/s \n",
            "\u001b[?25hCollecting mccabe<0.7,>=0.6\n",
            "  Downloading https://files.pythonhosted.org/packages/87/89/479dc97e18549e21354893e4ee4ef36db1d237534982482c3681ee6e7b57/mccabe-0.6.1-py2.py3-none-any.whl\n",
            "Requirement already satisfied: toml>=0.7.1 in /usr/local/lib/python3.6/dist-packages (from pylint) (0.10.1)\n",
            "Collecting isort<6,>=4.2.5\n",
            "\u001b[?25l  Downloading https://files.pythonhosted.org/packages/d1/25/7ed95ccb07d3ce52598f5a57d002da6a18074ea8749991b10936cc20e539/isort-5.5.2-py3-none-any.whl (95kB)\n",
            "\u001b[K     |████████████████████████████████| 102kB 5.8MB/s \n",
            "\u001b[?25hCollecting astroid<=2.5,>=2.4.0\n",
            "\u001b[?25l  Downloading https://files.pythonhosted.org/packages/24/a8/5133f51967fb21e46ee50831c3f5dda49e976b7f915408d670b1603d41d6/astroid-2.4.2-py3-none-any.whl (213kB)\n",
            "\u001b[K     |████████████████████████████████| 215kB 9.3MB/s \n",
            "\u001b[?25hCollecting typed-ast<1.5,>=1.4.0; implementation_name == \"cpython\" and python_version < \"3.8\"\n",
            "\u001b[?25l  Downloading https://files.pythonhosted.org/packages/90/ed/5459080d95eb87a02fe860d447197be63b6e2b5e9ff73c2b0a85622994f4/typed_ast-1.4.1-cp36-cp36m-manylinux1_x86_64.whl (737kB)\n",
            "\u001b[K     |████████████████████████████████| 747kB 12.1MB/s \n",
            "\u001b[?25hRequirement already satisfied: six~=1.12 in /usr/local/lib/python3.6/dist-packages (from astroid<=2.5,>=2.4.0->pylint) (1.15.0)\n",
            "Requirement already satisfied: wrapt~=1.11 in /usr/local/lib/python3.6/dist-packages (from astroid<=2.5,>=2.4.0->pylint) (1.12.1)\n",
            "Collecting lazy-object-proxy==1.4.*\n",
            "\u001b[?25l  Downloading https://files.pythonhosted.org/packages/0b/dd/b1e3407e9e6913cf178e506cd0dee818e58694d9a5cd1984e3f6a8b9a10f/lazy_object_proxy-1.4.3-cp36-cp36m-manylinux1_x86_64.whl (55kB)\n",
            "\u001b[K     |████████████████████████████████| 61kB 6.9MB/s \n",
            "\u001b[?25hInstalling collected packages: mccabe, isort, typed-ast, lazy-object-proxy, astroid, pylint\n",
            "Successfully installed astroid-2.4.2 isort-5.5.2 lazy-object-proxy-1.4.3 mccabe-0.6.1 pylint-2.6.0 typed-ast-1.4.1\n"
          ],
          "name": "stdout"
        }
      ]
    },
    {
      "cell_type": "code",
      "metadata": {
        "id": "nte10yrGMLRp",
        "colab_type": "code",
        "colab": {
          "base_uri": "https://localhost:8080/",
          "height": 87
        },
        "outputId": "b4d9d15c-4fb0-43be-c6f9-568921825c73"
      },
      "source": [
        "! pylint \"primenumber_code.py\""
      ],
      "execution_count": 35,
      "outputs": [
        {
          "output_type": "stream",
          "text": [
            "\n",
            "-------------------------------------------------------------------\n",
            "Your code has been rated at 10.00/10 (previous run: 8.57/10, +1.43)\n",
            "\n"
          ],
          "name": "stdout"
        }
      ]
    },
    {
      "cell_type": "code",
      "metadata": {
        "id": "bij4VCvdMO6M",
        "colab_type": "code",
        "colab": {
          "base_uri": "https://localhost:8080/",
          "height": 34
        },
        "outputId": "a7d5f8cd-a67a-4261-c67c-6fc966bd6e7c"
      },
      "source": [
        "%%writefile testPrime.py\n",
        "import unittest\n",
        "import primenumber_code\n",
        "\n",
        "class testPrime(unittest.TestCase):\n",
        "    def testnumber(self):\n",
        "        abc = 2\n",
        "        result = primenumber_code.prime(abc)\n",
        "        self.assertEquals(result, 2)\n",
        "\n",
        "    def testnumber1(self):\n",
        "        xyz = 11\n",
        "        result = primenumber_code.prime(xyz)\n",
        "        self.assertEquals(result, 11)\n",
        "\n",
        "if __name__ == \"__main__\":\n",
        "    unittest.main()"
      ],
      "execution_count": 38,
      "outputs": [
        {
          "output_type": "stream",
          "text": [
            "Overwriting testPrime.py\n"
          ],
          "name": "stdout"
        }
      ]
    },
    {
      "cell_type": "code",
      "metadata": {
        "id": "Z2qYadVMTVrW",
        "colab_type": "code",
        "colab": {
          "base_uri": "https://localhost:8080/",
          "height": 105
        },
        "outputId": "a9c3ca7f-6763-45d9-971f-90c6bf0fd3c4"
      },
      "source": [
        "! python \"testPrime.py\""
      ],
      "execution_count": 42,
      "outputs": [
        {
          "output_type": "stream",
          "text": [
            "..\n",
            "----------------------------------------------------------------------\n",
            "Ran 2 tests in 0.000s\n",
            "\n",
            "OK\n"
          ],
          "name": "stdout"
        }
      ]
    },
    {
      "cell_type": "code",
      "metadata": {
        "id": "sE2Lh1DQTZ4F",
        "colab_type": "code",
        "colab": {}
      },
      "source": [
        ""
      ],
      "execution_count": null,
      "outputs": []
    }
  ]
}