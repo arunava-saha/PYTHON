{
  "nbformat": 4,
  "nbformat_minor": 0,
  "metadata": {
    "colab": {
      "name": "Untitled",
      "provenance": []
    },
    "kernelspec": {
      "name": "python3",
      "display_name": "Python 3"
    }
  },
  "cells": [
    {
      "cell_type": "code",
      "metadata": {
        "id": "hz9C2AnCs4s1",
        "colab_type": "code",
        "colab": {}
      },
      "source": [
        "#whiie loop"
      ],
      "execution_count": null,
      "outputs": []
    },
    {
      "cell_type": "markdown",
      "metadata": {
        "id": "Qdd9WsBet2q0",
        "colab_type": "text"
      },
      "source": [
        "while loops used for itretating through the particular conditions is"
      ]
    },
    {
      "cell_type": "code",
      "metadata": {
        "id": "cUP8hr2bxcj1",
        "colab_type": "code",
        "colab": {
          "base_uri": "https://localhost:8080/",
          "height": 67
        },
        "outputId": "ac984a60-7368-4aa5-ba33-413bb15dc1da"
      },
      "source": [
        "lower = input(\"Enter the lower number - \")#1042000\n",
        "upper = input(\"Enter the upper number - \")#702648265\n",
        "low=int(lower)\n",
        "up=int(upper)\n",
        "while low<=up:\n",
        "  temp = low\n",
        "  s=0\n",
        "  c=0\n",
        "  while temp!=0:\n",
        "    c=c+1\n",
        "    temp=int(temp/10)\n",
        "  temp=low\n",
        "  while temp!=0:\n",
        "    rem=temp%10\n",
        "    p=1\n",
        "    for i in range(0,c):\n",
        "      p=p*rem\n",
        "      s=s+p\n",
        "      temp=int(temp/10)\n",
        "      if s==low:\n",
        "        print(low,end=\" \")\n",
        "      low=low+1"
      ],
      "execution_count": null,
      "outputs": [
        {
          "output_type": "stream",
          "text": [
            "Enter the lower number - 1000000\n",
            "Enter the upper number - 70000000\n",
            "2396744 "
          ],
          "name": "stdout"
        }
      ]
    },
    {
      "cell_type": "code",
      "metadata": {
        "id": "28wDWlCyJTsY",
        "colab_type": "code",
        "colab": {}
      },
      "source": [
        ""
      ],
      "execution_count": null,
      "outputs": []
    }
  ]
}