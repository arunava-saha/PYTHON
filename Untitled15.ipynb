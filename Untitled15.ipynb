{
  "nbformat": 4,
  "nbformat_minor": 0,
  "metadata": {
    "colab": {
      "name": "Untitled15.ipynb",
      "provenance": [],
      "authorship_tag": "ABX9TyO2vD3ll7uFFiYf5tgPu8XN",
      "include_colab_link": true
    },
    "kernelspec": {
      "name": "python3",
      "display_name": "Python 3"
    }
  },
  "cells": [
    {
      "cell_type": "markdown",
      "metadata": {
        "id": "view-in-github",
        "colab_type": "text"
      },
      "source": [
        "<a href=\"https://colab.research.google.com/github/arunava-saha/PYTHON/blob/master/Untitled15.ipynb\" target=\"_parent\"><img src=\"https://colab.research.google.com/assets/colab-badge.svg\" alt=\"Open In Colab\"/></a>"
      ]
    },
    {
      "cell_type": "code",
      "metadata": {
        "id": "vSihQ4y2iul7",
        "colab_type": "code",
        "colab": {
          "base_uri": "https://localhost:8080/",
          "height": 175
        },
        "outputId": "e46efc3b-a631-4c80-d7fa-be3c735f9e22"
      },
      "source": [
        "#fibonacci test \n",
        "\n",
        "n = int(input(\"How many terms? \"))\n",
        "\n",
        "# first two terms\n",
        "a, b = 0, 1\n",
        "count = 0\n",
        "\n",
        "# check if the number of terms is valid\n",
        "if n <= 0:\n",
        "   print(\"Please enter a positive integer\")\n",
        "elif n == 1:\n",
        "   print(\"Fibonacci sequence upto\",n,\":\")\n",
        "   print(a)\n",
        "else:\n",
        "   print(\"Fibonacci sequence:\")\n",
        "   while count < n:\n",
        "       print(a)\n",
        "       c = a + b\n",
        "       a = b\n",
        "       b = c\n",
        "       count += 1"
      ],
      "execution_count": 5,
      "outputs": [
        {
          "output_type": "stream",
          "text": [
            "How many terms? 7\n",
            "Fibonacci sequence:\n",
            "0\n",
            "1\n",
            "1\n",
            "2\n",
            "3\n",
            "5\n",
            "8\n"
          ],
          "name": "stdout"
        }
      ]
    },
    {
      "cell_type": "code",
      "metadata": {
        "id": "atvRHwJwkaH3",
        "colab_type": "code",
        "colab": {}
      },
      "source": [
        "#Assignment no 1\n",
        "def getInput(function):\n",
        "   def fibonacci():\n",
        "\n",
        "      a, b = 0, 1\n",
        "      count = 0\n",
        "      if n <= 0:\n",
        "         print(\"Please enter a positive integer\")\n",
        "      elif n == 1:\n",
        "         print(\"Fibonacci sequence upto\",n,\":\")\n",
        "         print(a)\n",
        "      else:\n",
        "         print(\"Fibonacci sequence:\")\n",
        "         while count < n:\n",
        "             print(a)\n",
        "             c = a + b\n",
        "             a = b\n",
        "             b = c\n",
        "             count += 1\n",
        "   return fibonacci"
      ],
      "execution_count": 57,
      "outputs": []
    },
    {
      "cell_type": "code",
      "metadata": {
        "id": "AxLopRR9uU1q",
        "colab_type": "code",
        "colab": {}
      },
      "source": [
        "@getInput\n",
        "def Range(x):\n",
        "    print(\"range\",x)"
      ],
      "execution_count": 59,
      "outputs": []
    },
    {
      "cell_type": "code",
      "metadata": {
        "id": "JAEPWC_dw2Ku",
        "colab_type": "code",
        "colab": {
          "base_uri": "https://localhost:8080/",
          "height": 158
        },
        "outputId": "18a2f301-e588-4f9c-fae6-c6db96b5be9e"
      },
      "source": [
        "Range()"
      ],
      "execution_count": 61,
      "outputs": [
        {
          "output_type": "stream",
          "text": [
            "Fibonacci sequence:\n",
            "0\n",
            "1\n",
            "1\n",
            "2\n",
            "3\n",
            "5\n",
            "8\n"
          ],
          "name": "stdout"
        }
      ]
    },
    {
      "cell_type": "code",
      "metadata": {
        "id": "gZ8E5a86w6Jm",
        "colab_type": "code",
        "colab": {}
      },
      "source": [
        "#assignment2\n",
        "# f = open('Data','r')\n",
        "#  print(f.read())\n",
        "#  print(f.readline(4),end=\"\")\n",
        "#  f1 = open('cat','a')\n",
        "#  f1.write(\"any time\")\n",
        "#  f1.write(\"People\")\n",
        "#  f1.write('Mobile')"
      ],
      "execution_count": null,
      "outputs": []
    },
    {
      "cell_type": "code",
      "metadata": {
        "id": "F816fSuN1bVL",
        "colab_type": "code",
        "colab": {}
      },
      "source": [
        "# f = open('Data','r')\n",
        "#\n",
        "# f1 = open('caqt','w')\n",
        "#\n",
        "# for data in f:\n",
        "#     f1.write(data)"
      ],
      "execution_count": null,
      "outputs": []
    },
    {
      "cell_type": "code",
      "metadata": {
        "id": "eaJAN5Fs2dPy",
        "colab_type": "code",
        "colab": {}
      },
      "source": [
        "f = open('iris.jpg','rb')\n",
        "\n",
        "f1 = open('iris.jpg','wb')\n",
        "\n",
        "for i in f:\n",
        "    f1.write(i)"
      ],
      "execution_count": null,
      "outputs": []
    }
  ]
}