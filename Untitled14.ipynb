{
  "nbformat": 4,
  "nbformat_minor": 0,
  "metadata": {
    "colab": {
      "name": "Untitled14.ipynb",
      "provenance": [],
      "authorship_tag": "ABX9TyMUCiXEYda5dOlbHNjY5A1q",
      "include_colab_link": true
    },
    "kernelspec": {
      "name": "python3",
      "display_name": "Python 3"
    }
  },
  "cells": [
    {
      "cell_type": "markdown",
      "metadata": {
        "id": "view-in-github",
        "colab_type": "text"
      },
      "source": [
        "<a href=\"https://colab.research.google.com/github/arunava-saha/PYTHON/blob/master/Untitled14.ipynb\" target=\"_parent\"><img src=\"https://colab.research.google.com/assets/colab-badge.svg\" alt=\"Open In Colab\"/></a>"
      ]
    },
    {
      "cell_type": "code",
      "metadata": {
        "id": "68Lk6HThfcWe",
        "colab_type": "code",
        "colab": {}
      },
      "source": [
        "class BankAccount():\n",
        "    def __init__(self,name):\n",
        "        self.name = name\n",
        "        self.balance = 0\n",
        "    \n",
        "    def deposit(self,amount):\n",
        "        self.balance = self.balance + amount\n",
        "    def withdraw(self,amount):\n",
        "        if self.balance >= amount:\n",
        "           self.balance -= amount\n",
        "        else:\n",
        "            print(\"Insufficient funds\")\n",
        "    def print_balance(self):\n",
        "        return self.balance\n",
        "    def getBankAccountDetails(self):\n",
        "        print(\"name \",self.name)\n",
        "        print(\"Your Balance is \")\n",
        "        print(self.balance)"
      ],
      "execution_count": null,
      "outputs": []
    },
    {
      "cell_type": "code",
      "metadata": {
        "id": "9jXgbrNctRwq",
        "colab_type": "code",
        "colab": {}
      },
      "source": [
        "Account = BankAccount(\"Arunava Saha\")"
      ],
      "execution_count": null,
      "outputs": []
    },
    {
      "cell_type": "code",
      "metadata": {
        "id": "_EReP7NWtY6v",
        "colab_type": "code",
        "colab": {}
      },
      "source": [
        "Account.deposit(1000)"
      ],
      "execution_count": null,
      "outputs": []
    },
    {
      "cell_type": "code",
      "metadata": {
        "id": "KZrc_baDwE9C",
        "colab_type": "code",
        "colab": {}
      },
      "source": [
        "Account.withdraw(100)"
      ],
      "execution_count": null,
      "outputs": []
    },
    {
      "cell_type": "code",
      "metadata": {
        "id": "693oWXyIwO1O",
        "colab_type": "code",
        "colab": {
          "base_uri": "https://localhost:8080/",
          "height": 34
        },
        "outputId": "7f357c6d-4529-4a63-ef64-832f1cb417ab"
      },
      "source": [
        "print(Account.print_balance())"
      ],
      "execution_count": null,
      "outputs": [
        {
          "output_type": "stream",
          "text": [
            "900\n"
          ],
          "name": "stdout"
        }
      ]
    },
    {
      "cell_type": "code",
      "metadata": {
        "id": "VdUAbleWxOpU",
        "colab_type": "code",
        "colab": {
          "base_uri": "https://localhost:8080/",
          "height": 87
        },
        "outputId": "b19a03c3-79ea-407b-e848-37136a18220b"
      },
      "source": [
        "print(Account.getBankAccountDetails())"
      ],
      "execution_count": null,
      "outputs": [
        {
          "output_type": "stream",
          "text": [
            "name  Arunava Saha\n",
            "Your Balance is \n",
            "900\n",
            "None\n"
          ],
          "name": "stdout"
        }
      ]
    },
    {
      "cell_type": "code",
      "metadata": {
        "id": "ml_R1w-YyKX5",
        "colab_type": "code",
        "colab": {
          "base_uri": "https://localhost:8080/",
          "height": 34
        },
        "outputId": "d09c39fe-d623-4e57-f59b-fb81cc941aba"
      },
      "source": [
        "Account.withdraw(1000)"
      ],
      "execution_count": null,
      "outputs": [
        {
          "output_type": "stream",
          "text": [
            "Insufficient funds\n"
          ],
          "name": "stdout"
        }
      ]
    },
    {
      "cell_type": "code",
      "metadata": {
        "id": "hE3B7ZYY2hsY",
        "colab_type": "code",
        "colab": {}
      },
      "source": [
        "Account.withdraw(300)"
      ],
      "execution_count": null,
      "outputs": []
    },
    {
      "cell_type": "code",
      "metadata": {
        "id": "g7b8MTol2nSL",
        "colab_type": "code",
        "colab": {
          "base_uri": "https://localhost:8080/",
          "height": 87
        },
        "outputId": "3e58b236-efb7-45bc-efee-dcf3a337da1d"
      },
      "source": [
        "print(Account.getBankAccountDetails())"
      ],
      "execution_count": null,
      "outputs": [
        {
          "output_type": "stream",
          "text": [
            "name  Arunava Saha\n",
            "Your Balance is \n",
            "100\n",
            "None\n"
          ],
          "name": "stdout"
        }
      ]
    },
    {
      "cell_type": "code",
      "metadata": {
        "id": "FCnJz7UN2pcY",
        "colab_type": "code",
        "colab": {}
      },
      "source": [
        "class Cone():\n",
        "    def __init__(self,radius,hight):\n",
        "        self.name = name\n",
        "        self.radius = radius\n",
        "        self.hight = hight\n",
        "    def volume(self,radius,hight):\n",
        "        import math\n",
        "        \n",
        "    def surfaceArea(self,radius,hight):\n",
        "        if self.balance >= amount:\n",
        "           self.balance -= amount\n",
        "        else:\n",
        "            print(\"Insufficient funds\")\n",
        "    def getConeDetails(self):\n",
        "        print(\"name\",self.name)\n",
        "        print(\"radius\",self.radius)\n",
        "        print(\"hight\",self.hight)"
      ],
      "execution_count": null,
      "outputs": []
    }
  ]
}